{
 "cells": [
  {
   "cell_type": "code",
   "execution_count": 1,
   "metadata": {},
   "outputs": [],
   "source": [
    "from config import configurations\n",
    "from automl import AutoML\n",
    "import pandas as pd"
   ]
  },
  {
   "cell_type": "code",
   "execution_count": 2,
   "metadata": {},
   "outputs": [],
   "source": [
    "train_data = pd.read_csv(\"/Users/krishivijayanand/Downloads/MAD/AutoML/train_titanic.csv\")\n",
    "test_data = pd.read_csv(\"/Users/krishivijayanand/Downloads/MAD/AutoML/test_titanic.csv\")"
   ]
  },
  {
   "cell_type": "code",
   "execution_count": 3,
   "metadata": {},
   "outputs": [],
   "source": [
    "x_train, y_train = train_data.drop(columns=['Survived'], axis = 1), train_data['Survived']\n",
    "x_test, y_test = test_data.drop(columns=['Survived'], axis = 1), test_data['Survived']"
   ]
  },
  {
   "cell_type": "code",
   "execution_count": 4,
   "metadata": {},
   "outputs": [
    {
     "name": "stderr",
     "output_type": "stream",
     "text": [
      "WARNING:root:Malformed experiment '890720563722179424'. Detailed error Yaml file '/Users/krishivijayanand/Documents/MAD/starfire/app/utils/automl/mlruns/890720563722179424/meta.yaml' does not exist.\n",
      "Traceback (most recent call last):\n",
      "  File \"/Users/krishivijayanand/anaconda3/lib/python3.11/site-packages/mlflow/store/tracking/file_store.py\", line 302, in search_experiments\n",
      "    exp = self._get_experiment(exp_id, view_type)\n",
      "          ^^^^^^^^^^^^^^^^^^^^^^^^^^^^^^^^^^^^^^^\n",
      "  File \"/Users/krishivijayanand/anaconda3/lib/python3.11/site-packages/mlflow/store/tracking/file_store.py\", line 395, in _get_experiment\n",
      "    meta = FileStore._read_yaml(experiment_dir, FileStore.META_DATA_FILE_NAME)\n",
      "           ^^^^^^^^^^^^^^^^^^^^^^^^^^^^^^^^^^^^^^^^^^^^^^^^^^^^^^^^^^^^^^^^^^^\n",
      "  File \"/Users/krishivijayanand/anaconda3/lib/python3.11/site-packages/mlflow/store/tracking/file_store.py\", line 1320, in _read_yaml\n",
      "    return _read_helper(root, file_name, attempts_remaining=retries)\n",
      "           ^^^^^^^^^^^^^^^^^^^^^^^^^^^^^^^^^^^^^^^^^^^^^^^^^^^^^^^^^\n",
      "  File \"/Users/krishivijayanand/anaconda3/lib/python3.11/site-packages/mlflow/store/tracking/file_store.py\", line 1313, in _read_helper\n",
      "    result = read_yaml(root, file_name)\n",
      "             ^^^^^^^^^^^^^^^^^^^^^^^^^^\n",
      "  File \"/Users/krishivijayanand/anaconda3/lib/python3.11/site-packages/mlflow/utils/file_utils.py\", line 310, in read_yaml\n",
      "    raise MissingConfigException(f\"Yaml file '{file_path}' does not exist.\")\n",
      "mlflow.exceptions.MissingConfigException: Yaml file '/Users/krishivijayanand/Documents/MAD/starfire/app/utils/automl/mlruns/890720563722179424/meta.yaml' does not exist.\n",
      "2024/05/30 02:41:37 INFO mlflow.tracking.fluent: Experiment with name 'Second Experiment' does not exist. Creating a new experiment.\n",
      "WARNING:root:Malformed experiment '890720563722179424'. Detailed error Yaml file '/Users/krishivijayanand/Documents/MAD/starfire/app/utils/automl/mlruns/890720563722179424/meta.yaml' does not exist.\n",
      "Traceback (most recent call last):\n",
      "  File \"/Users/krishivijayanand/anaconda3/lib/python3.11/site-packages/mlflow/store/tracking/file_store.py\", line 302, in search_experiments\n",
      "    exp = self._get_experiment(exp_id, view_type)\n",
      "          ^^^^^^^^^^^^^^^^^^^^^^^^^^^^^^^^^^^^^^^\n",
      "  File \"/Users/krishivijayanand/anaconda3/lib/python3.11/site-packages/mlflow/store/tracking/file_store.py\", line 395, in _get_experiment\n",
      "    meta = FileStore._read_yaml(experiment_dir, FileStore.META_DATA_FILE_NAME)\n",
      "           ^^^^^^^^^^^^^^^^^^^^^^^^^^^^^^^^^^^^^^^^^^^^^^^^^^^^^^^^^^^^^^^^^^^\n",
      "  File \"/Users/krishivijayanand/anaconda3/lib/python3.11/site-packages/mlflow/store/tracking/file_store.py\", line 1320, in _read_yaml\n",
      "    return _read_helper(root, file_name, attempts_remaining=retries)\n",
      "           ^^^^^^^^^^^^^^^^^^^^^^^^^^^^^^^^^^^^^^^^^^^^^^^^^^^^^^^^^\n",
      "  File \"/Users/krishivijayanand/anaconda3/lib/python3.11/site-packages/mlflow/store/tracking/file_store.py\", line 1313, in _read_helper\n",
      "    result = read_yaml(root, file_name)\n",
      "             ^^^^^^^^^^^^^^^^^^^^^^^^^^\n",
      "  File \"/Users/krishivijayanand/anaconda3/lib/python3.11/site-packages/mlflow/utils/file_utils.py\", line 310, in read_yaml\n",
      "    raise MissingConfigException(f\"Yaml file '{file_path}' does not exist.\")\n",
      "mlflow.exceptions.MissingConfigException: Yaml file '/Users/krishivijayanand/Documents/MAD/starfire/app/utils/automl/mlruns/890720563722179424/meta.yaml' does not exist.\n"
     ]
    },
    {
     "name": "stdout",
     "output_type": "stream",
     "text": [
      "Model training\n"
     ]
    },
    {
     "name": "stderr",
     "output_type": "stream",
     "text": [
      "2024/05/30 02:41:37 WARNING mlflow.sklearn: Model was missing function: predict. Not logging python_function flavor!\n"
     ]
    },
    {
     "name": "stdout",
     "output_type": "stream",
     "text": [
      "Data has been imputed successfully\n",
      "Data has been encoded successfully\n",
      "Data has been scaled successfully\n",
      "Skew in the data has been handled\n"
     ]
    },
    {
     "name": "stderr",
     "output_type": "stream",
     "text": [
      "[I 2024-05-30 02:41:40,379] A new study created in memory with name: no-name-8e906cb7-b266-498b-94c6-3df0d7a83c54\n",
      "[I 2024-05-30 02:41:40,402] Trial 0 finished with value: 0.7450389540712121 and parameters: {'penalty': 'l2', 'fit_intercept': False}. Best is trial 0 with value: 0.7450389540712121.\n",
      "[I 2024-05-30 02:41:40,425] Trial 1 finished with value: 0.740911969944228 and parameters: {'penalty': None, 'fit_intercept': False}. Best is trial 0 with value: 0.7450389540712121.\n",
      "[I 2024-05-30 02:41:40,453] Trial 2 finished with value: 0.7464634554957135 and parameters: {'penalty': 'l2', 'fit_intercept': True}. Best is trial 2 with value: 0.7464634554957135.\n",
      "[I 2024-05-30 02:41:40,473] Trial 3 finished with value: 0.740911969944228 and parameters: {'penalty': None, 'fit_intercept': True}. Best is trial 2 with value: 0.7464634554957135.\n",
      "[I 2024-05-30 02:41:40,491] Trial 4 finished with value: 0.7450389540712121 and parameters: {'penalty': 'l2', 'fit_intercept': False}. Best is trial 2 with value: 0.7464634554957135.\n"
     ]
    },
    {
     "name": "stdout",
     "output_type": "stream",
     "text": [
      "Data has been imputed successfully\n",
      "Data has been encoded successfully\n",
      "Data has been scaled successfully\n",
      "Skew in the data has been handled\n",
      "Outlier in the data has been handled successfully\n",
      "Data has been imputed successfully\n",
      "Data has been encoded successfully\n",
      "Data has been scaled successfully\n",
      "Skew in the data has been handled\n",
      "Outlier in the data has been handled successfully\n",
      "Data preprocessing and training has been completed successfully\n",
      "Best model's run id :  d46b82f10a1f434fbc3ffd0b785a4749\n",
      "The best model is  LogisticRegression\n"
     ]
    },
    {
     "data": {
      "image/png": "[encoded data removed]",
      "text/plain": [
       "<Figure size 640x480 with 1 Axes>"
      ]
     },
     "metadata": {},
     "output_type": "display_data"
    }
   ],
   "source": [
    "# # train and predict\n",
    "ml = AutoML(configurations)\n",
    "ml.fit(x_train, y_train)\n"
   ]
  },
  {
   "cell_type": "code",
   "execution_count": 12,
   "metadata": {},
   "outputs": [
    {
     "data": {
      "text/html": [
       "<style>#sk-container-id-5 {color: black;background-color: white;}#sk-container-id-5 pre{padding: 0;}#sk-container-id-5 div.sk-toggleable {background-color: white;}#sk-container-id-5 label.sk-toggleable__label {cursor: pointer;display: block;width: 100%;margin-bottom: 0;padding: 0.3em;box-sizing: border-box;text-align: center;}#sk-container-id-5 label.sk-toggleable__label-arrow:before {content: \"▸\";float: left;margin-right: 0.25em;color: #696969;}#sk-container-id-5 label.sk-toggleable__label-arrow:hover:before {color: black;}#sk-container-id-5 div.sk-estimator:hover label.sk-toggleable__label-arrow:before {color: black;}#sk-container-id-5 div.sk-toggleable__content {max-height: 0;max-width: 0;overflow: hidden;text-align: left;background-color: #f0f8ff;}#sk-container-id-5 div.sk-toggleable__content pre {margin: 0.2em;color: black;border-radius: 0.25em;background-color: #f0f8ff;}#sk-container-id-5 input.sk-toggleable__control:checked~div.sk-toggleable__content {max-height: 200px;max-width: 100%;overflow: auto;}#sk-container-id-5 input.sk-toggleable__control:checked~label.sk-toggleable__label-arrow:before {content: \"▾\";}#sk-container-id-5 div.sk-estimator input.sk-toggleable__control:checked~label.sk-toggleable__label {background-color: #d4ebff;}#sk-container-id-5 div.sk-label input.sk-toggleable__control:checked~label.sk-toggleable__label {background-color: #d4ebff;}#sk-container-id-5 input.sk-hidden--visually {border: 0;clip: rect(1px 1px 1px 1px);clip: rect(1px, 1px, 1px, 1px);height: 1px;margin: -1px;overflow: hidden;padding: 0;position: absolute;width: 1px;}#sk-container-id-5 div.sk-estimator {font-family: monospace;background-color: #f0f8ff;border: 1px dotted black;border-radius: 0.25em;box-sizing: border-box;margin-bottom: 0.5em;}#sk-container-id-5 div.sk-estimator:hover {background-color: #d4ebff;}#sk-container-id-5 div.sk-parallel-item::after {content: \"\";width: 100%;border-bottom: 1px solid gray;flex-grow: 1;}#sk-container-id-5 div.sk-label:hover label.sk-toggleable__label {background-color: #d4ebff;}#sk-container-id-5 div.sk-serial::before {content: \"\";position: absolute;border-left: 1px solid gray;box-sizing: border-box;top: 0;bottom: 0;left: 50%;z-index: 0;}#sk-container-id-5 div.sk-serial {display: flex;flex-direction: column;align-items: center;background-color: white;padding-right: 0.2em;padding-left: 0.2em;position: relative;}#sk-container-id-5 div.sk-item {position: relative;z-index: 1;}#sk-container-id-5 div.sk-parallel {display: flex;align-items: stretch;justify-content: center;background-color: white;position: relative;}#sk-container-id-5 div.sk-item::before, #sk-container-id-5 div.sk-parallel-item::before {content: \"\";position: absolute;border-left: 1px solid gray;box-sizing: border-box;top: 0;bottom: 0;left: 50%;z-index: -1;}#sk-container-id-5 div.sk-parallel-item {display: flex;flex-direction: column;z-index: 1;position: relative;background-color: white;}#sk-container-id-5 div.sk-parallel-item:first-child::after {align-self: flex-end;width: 50%;}#sk-container-id-5 div.sk-parallel-item:last-child::after {align-self: flex-start;width: 50%;}#sk-container-id-5 div.sk-parallel-item:only-child::after {width: 0;}#sk-container-id-5 div.sk-dashed-wrapped {border: 1px dashed gray;margin: 0 0.4em 0.5em 0.4em;box-sizing: border-box;padding-bottom: 0.4em;background-color: white;}#sk-container-id-5 div.sk-label label {font-family: monospace;font-weight: bold;display: inline-block;line-height: 1.2em;}#sk-container-id-5 div.sk-label-container {text-align: center;}#sk-container-id-5 div.sk-container {/* jupyter's `normalize.less` sets `[hidden] { display: none; }` but bootstrap.min.css set `[hidden] { display: none !important; }` so we also need the `!important` here to be able to override the default hidden behavior on the sphinx rendered scikit-learn.org. See: https://github.com/scikit-learn/scikit-learn/issues/21755 */display: inline-block !important;position: relative;}#sk-container-id-5 div.sk-text-repr-fallback {display: none;}</style><div id=\"sk-container-id-5\" class=\"sk-top-container\"><div class=\"sk-text-repr-fallback\"><pre>AutoMLPreprocess(_fx={&#x27;Categorical&#x27;: [&#x27;Sex&#x27;], &#x27;DateTime&#x27;: [],\n",
       "                      &#x27;Numeric&#x27;: [&#x27;Pclass&#x27;, &#x27;Age&#x27;, &#x27;Siblings/Spouses Aboard&#x27;,\n",
       "                                  &#x27;Parents/Children Aboard&#x27;, &#x27;Fare&#x27;],\n",
       "                      &#x27;Others&#x27;: []},\n",
       "                 configs={&#x27;encode&#x27;: {&#x27;categorical_encoder_method&#x27;: &#x27;one_hot&#x27;,\n",
       "                                     &#x27;fit_numerical_to_categorical&#x27;: [],\n",
       "                                     &#x27;ignore_columns&#x27;: [],\n",
       "                                     &#x27;numerical_encoder_method&#x27;: &#x27;standard&#x27;},\n",
       "                          &#x27;ensemble&#x27;: False,\n",
       "                          &#x27;experiment_name&#x27;: &#x27;Second Ex...\n",
       "                          &#x27;include_models&#x27;: [&#x27;LogisticRegression&#x27;],\n",
       "                          &#x27;null_value_imputation&#x27;: {&#x27;categorical_defaults&#x27;: &#x27;Unknown&#x27;,\n",
       "                                                    &#x27;datetime_defaults&#x27;: None,\n",
       "                                                    &#x27;drop_null&#x27;: False,\n",
       "                                                    &#x27;numerical_defaults&#x27;: &#x27;mean&#x27;},\n",
       "                          &#x27;outlier&#x27;: {&#x27;drop&#x27;: False, &#x27;handle&#x27;: True},\n",
       "                          &#x27;skew&#x27;: {&#x27;skew_function&#x27;: &#x27;yeo_johnson&#x27;,\n",
       "                                   &#x27;skew_threshold&#x27;: 0.5},\n",
       "                          &#x27;stacking&#x27;: False, &#x27;task&#x27;: &#x27;Classification&#x27;,\n",
       "                          &#x27;tune&#x27;: True, &#x27;validation_set_size&#x27;: 0.3,\n",
       "                          &#x27;verbose&#x27;: True})</pre><b>In a Jupyter environment, please rerun this cell to show the HTML representation or trust the notebook. <br />On GitHub, the HTML representation is unable to render, please try loading this page with nbviewer.org.</b></div><div class=\"sk-container\" hidden><div class=\"sk-item\"><div class=\"sk-estimator sk-toggleable\"><input class=\"sk-toggleable__control sk-hidden--visually\" id=\"sk-estimator-id-4\" type=\"checkbox\" checked><label for=\"sk-estimator-id-4\" class=\"sk-toggleable__label sk-toggleable__label-arrow\">AutoMLPreprocess</label><div class=\"sk-toggleable__content\"><pre>AutoMLPreprocess(_fx={&#x27;Categorical&#x27;: [&#x27;Sex&#x27;], &#x27;DateTime&#x27;: [],\n",
       "                      &#x27;Numeric&#x27;: [&#x27;Pclass&#x27;, &#x27;Age&#x27;, &#x27;Siblings/Spouses Aboard&#x27;,\n",
       "                                  &#x27;Parents/Children Aboard&#x27;, &#x27;Fare&#x27;],\n",
       "                      &#x27;Others&#x27;: []},\n",
       "                 configs={&#x27;encode&#x27;: {&#x27;categorical_encoder_method&#x27;: &#x27;one_hot&#x27;,\n",
       "                                     &#x27;fit_numerical_to_categorical&#x27;: [],\n",
       "                                     &#x27;ignore_columns&#x27;: [],\n",
       "                                     &#x27;numerical_encoder_method&#x27;: &#x27;standard&#x27;},\n",
       "                          &#x27;ensemble&#x27;: False,\n",
       "                          &#x27;experiment_name&#x27;: &#x27;Second Ex...\n",
       "                          &#x27;include_models&#x27;: [&#x27;LogisticRegression&#x27;],\n",
       "                          &#x27;null_value_imputation&#x27;: {&#x27;categorical_defaults&#x27;: &#x27;Unknown&#x27;,\n",
       "                                                    &#x27;datetime_defaults&#x27;: None,\n",
       "                                                    &#x27;drop_null&#x27;: False,\n",
       "                                                    &#x27;numerical_defaults&#x27;: &#x27;mean&#x27;},\n",
       "                          &#x27;outlier&#x27;: {&#x27;drop&#x27;: False, &#x27;handle&#x27;: True},\n",
       "                          &#x27;skew&#x27;: {&#x27;skew_function&#x27;: &#x27;yeo_johnson&#x27;,\n",
       "                                   &#x27;skew_threshold&#x27;: 0.5},\n",
       "                          &#x27;stacking&#x27;: False, &#x27;task&#x27;: &#x27;Classification&#x27;,\n",
       "                          &#x27;tune&#x27;: True, &#x27;validation_set_size&#x27;: 0.3,\n",
       "                          &#x27;verbose&#x27;: True})</pre></div></div></div></div></div>"
      ],
      "text/plain": [
       "AutoMLPreprocess(_fx={'Categorical': ['Sex'], 'DateTime': [],\n",
       "                      'Numeric': ['Pclass', 'Age', 'Siblings/Spouses Aboard',\n",
       "                                  'Parents/Children Aboard', 'Fare'],\n",
       "                      'Others': []},\n",
       "                 configs={'encode': {'categorical_encoder_method': 'one_hot',\n",
       "                                     'fit_numerical_to_categorical': [],\n",
       "                                     'ignore_columns': [],\n",
       "                                     'numerical_encoder_method': 'standard'},\n",
       "                          'ensemble': False,\n",
       "                          'experiment_name': 'Second Ex...\n",
       "                          'include_models': ['LogisticRegression'],\n",
       "                          'null_value_imputation': {'categorical_defaults': 'Unknown',\n",
       "                                                    'datetime_defaults': None,\n",
       "                                                    'drop_null': False,\n",
       "                                                    'numerical_defaults': 'mean'},\n",
       "                          'outlier': {'drop': False, 'handle': True},\n",
       "                          'skew': {'skew_function': 'yeo_johnson',\n",
       "                                   'skew_threshold': 0.5},\n",
       "                          'stacking': False, 'task': 'Classification',\n",
       "                          'tune': True, 'validation_set_size': 0.3,\n",
       "                          'verbose': True})"
      ]
     },
     "execution_count": 12,
     "metadata": {},
     "output_type": "execute_result"
    }
   ],
   "source": [
    "ml.model.pp_"
   ]
  },
  {
   "cell_type": "code",
   "execution_count": null,
   "metadata": {},
   "outputs": [],
   "source": []
  }
 ],
 "metadata": {
  "kernelspec": {
   "display_name": "Python 3",
   "language": "python",
   "name": "python3"
  },
  "language_info": {
   "codemirror_mode": {
    "name": "ipython",
    "version": 3
   },
   "file_extension": ".py",
   "mimetype": "text/x-python",
   "name": "python",
   "nbconvert_exporter": "python",
   "pygments_lexer": "ipython3",
   "version": "3.11.3"
  },
  "orig_nbformat": 4
 },
 "nbformat": 4,
 "nbformat_minor": 2
}
